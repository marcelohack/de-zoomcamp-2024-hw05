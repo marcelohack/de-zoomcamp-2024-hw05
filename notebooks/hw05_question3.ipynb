{
 "cells": [
  {
   "cell_type": "code",
   "execution_count": 1,
   "id": "519f4da6-b416-4fe0-a646-17e5dcad05ef",
   "metadata": {},
   "outputs": [
    {
     "name": "stderr",
     "output_type": "stream",
     "text": [
      "Setting default log level to \"WARN\".\n",
      "To adjust logging level use sc.setLogLevel(newLevel). For SparkR, use setLogLevel(newLevel).\n",
      "24/02/23 08:13:26 WARN NativeCodeLoader: Unable to load native-hadoop library for your platform... using builtin-java classes where applicable\n"
     ]
    }
   ],
   "source": [
    "import pyspark\n",
    "from pyspark.sql import SparkSession\n",
    "\n",
    "spark = SparkSession.builder \\\n",
    "    .master(\"local[*]\") \\\n",
    "    .appName('test_hw05_question3') \\\n",
    "    .getOrCreate()"
   ]
  },
  {
   "cell_type": "code",
   "execution_count": 2,
   "id": "3cae4803-7043-4bf5-941d-329cf3f87596",
   "metadata": {},
   "outputs": [],
   "source": [
    "from pyspark.sql import types"
   ]
  },
  {
   "cell_type": "code",
   "execution_count": 3,
   "id": "c4fbcdbd-db84-47f5-b9cf-859075a8b76c",
   "metadata": {},
   "outputs": [],
   "source": [
    "schema = types.StructType([\n",
    "    types.StructField('dispatching_base_num', types.StringType(), True), \n",
    "    types.StructField('pickup_datetime', types.TimestampType(), True), \n",
    "    types.StructField('dropOff_datetime', types.TimestampType(), True),\n",
    "    types.StructField('PUlocationID', types.IntegerType(), True),\n",
    "    types.StructField('DOlocationID', types.IntegerType(), True),\n",
    "    types.StructField('SR_Flag', types.StringType(), True),\n",
    "    types.StructField('Affiliated_base_number', types.StringType(), True)\n",
    "])"
   ]
  },
  {
   "cell_type": "code",
   "execution_count": 4,
   "id": "46a5b1f0-5f94-4300-ace7-c6763b9c3053",
   "metadata": {},
   "outputs": [],
   "source": [
    "df = spark.read \\\n",
    "    .option(\"header\", \"true\") \\\n",
    "    .schema(schema) \\\n",
    "    .csv('data/raw/fhv/2019/10/fhv_tripdata_2019_10.csv')"
   ]
  },
  {
   "cell_type": "code",
   "execution_count": 5,
   "id": "41869cd1-8e6b-485f-a6db-d2ee920f69a8",
   "metadata": {},
   "outputs": [],
   "source": [
    "from pyspark.sql import functions as F"
   ]
  },
  {
   "cell_type": "code",
   "execution_count": 6,
   "id": "4f2a0cf1-8ea5-4ece-8a76-9dbd9706c0ce",
   "metadata": {},
   "outputs": [],
   "source": [
    "filtered_df = df \\\n",
    "    .filter(F.to_date(df.pickup_datetime) == '2019-10-15')"
   ]
  },
  {
   "cell_type": "code",
   "execution_count": 7,
   "id": "9952f438-5788-4d11-b397-e0e1b222d8ed",
   "metadata": {},
   "outputs": [
    {
     "name": "stdout",
     "output_type": "stream",
     "text": [
      "+--------------------+-------------------+-------------------+------------+------------+-------+----------------------+\n",
      "|dispatching_base_num|    pickup_datetime|   dropOff_datetime|PUlocationID|DOlocationID|SR_Flag|Affiliated_base_number|\n",
      "+--------------------+-------------------+-------------------+------------+------------+-------+----------------------+\n",
      "|              B00009|2019-10-15 00:08:00|2019-10-15 00:13:00|         264|         264|   NULL|                B00009|\n",
      "|              B00009|2019-10-15 00:13:00|2019-10-15 00:41:00|         264|         264|   NULL|                B00009|\n",
      "|              B00013|2019-10-15 00:57:07|2019-10-15 00:57:49|         264|         264|   NULL|                B00013|\n",
      "|              B00013|2019-10-15 00:57:54|2019-10-15 00:58:36|         264|         264|   NULL|                B00013|\n",
      "|              B00013|2019-10-15 00:58:50|2019-10-15 00:59:52|         264|         264|   NULL|                B00013|\n",
      "|              B00013|2019-10-15 00:03:05|2019-10-15 00:08:14|         264|         264|   NULL|                B00013|\n",
      "|              B00013|2019-10-15 00:32:15|2019-10-15 00:35:55|         264|         264|   NULL|                B00013|\n",
      "|              B00013|2019-10-15 00:32:20|2019-10-15 00:36:52|         264|         264|   NULL|                B00013|\n",
      "|              B00014|2019-10-15 00:21:16|2019-10-15 00:34:51|         264|         264|   NULL|                B00014|\n",
      "|              B00014|2019-10-15 00:29:22|2019-10-15 00:33:45|         264|         264|   NULL|                B00014|\n",
      "|              B00014|2019-10-15 00:31:53|2019-10-15 00:36:19|         264|         264|   NULL|                B00014|\n",
      "|              B00014|2019-10-15 00:37:31|2019-10-15 01:05:21|         264|         264|   NULL|                B00014|\n",
      "|              B00014|2019-10-15 00:13:57|2019-10-15 00:42:07|         264|         264|   NULL|                B00014|\n",
      "|              B00014|2019-10-15 00:59:16|2019-10-15 01:50:56|         264|         264|   NULL|                B00014|\n",
      "|              B00014|2019-10-15 00:13:57|2019-10-15 00:44:35|         264|         264|   NULL|                B00014|\n",
      "|     B00021         |2019-10-15 00:43:01|2019-10-15 00:55:15|          82|         129|   NULL|       B00021         |\n",
      "|              B00037|2019-10-15 00:28:53|2019-10-15 00:32:30|         264|          85|   NULL|                B00037|\n",
      "|              B00037|2019-10-15 00:40:19|2019-10-15 00:44:58|         264|          85|   NULL|                B00037|\n",
      "|              B00037|2019-10-15 00:02:40|2019-10-15 00:09:13|         264|         188|   NULL|                B00037|\n",
      "|              B00037|2019-10-15 00:16:37|2019-10-15 00:19:11|         264|          72|   NULL|                B00037|\n",
      "+--------------------+-------------------+-------------------+------------+------------+-------+----------------------+\n",
      "only showing top 20 rows\n",
      "\n"
     ]
    }
   ],
   "source": [
    "filtered_df.show()"
   ]
  },
  {
   "cell_type": "code",
   "execution_count": 8,
   "id": "66c21c34-9634-48da-bb8b-103d385893ee",
   "metadata": {},
   "outputs": [
    {
     "data": {
      "text/plain": [
       "62610"
      ]
     },
     "execution_count": 8,
     "metadata": {},
     "output_type": "execute_result"
    }
   ],
   "source": [
    "filtered_df.count()"
   ]
  },
  {
   "cell_type": "code",
   "execution_count": null,
   "id": "c7d070f2-9140-4fd8-b402-50a82e9d60f8",
   "metadata": {},
   "outputs": [],
   "source": []
  }
 ],
 "metadata": {
  "kernelspec": {
   "display_name": "Python 3 (ipykernel)",
   "language": "python",
   "name": "python3"
  },
  "language_info": {
   "codemirror_mode": {
    "name": "ipython",
    "version": 3
   },
   "file_extension": ".py",
   "mimetype": "text/x-python",
   "name": "python",
   "nbconvert_exporter": "python",
   "pygments_lexer": "ipython3",
   "version": "3.10.3"
  }
 },
 "nbformat": 4,
 "nbformat_minor": 5
}
